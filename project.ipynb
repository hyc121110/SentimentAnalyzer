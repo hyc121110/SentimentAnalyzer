{
 "cells": [
  {
   "cell_type": "code",
   "execution_count": 1,
   "metadata": {},
   "outputs": [
    {
     "data": {
      "text/html": [
       "        <script type=\"text/javascript\">\n",
       "        window.PlotlyConfig = {MathJaxConfig: 'local'};\n",
       "        if (window.MathJax) {MathJax.Hub.Config({SVG: {font: \"STIX-Web\"}});}\n",
       "        if (typeof require !== 'undefined') {\n",
       "        require.undef(\"plotly\");\n",
       "        requirejs.config({\n",
       "            paths: {\n",
       "                'plotly': ['https://cdn.plot.ly/plotly-latest.min']\n",
       "            }\n",
       "        });\n",
       "        require(['plotly'], function(Plotly) {\n",
       "            window._Plotly = Plotly;\n",
       "        });\n",
       "        }\n",
       "        </script>\n",
       "        "
      ]
     },
     "metadata": {},
     "output_type": "display_data"
    }
   ],
   "source": [
    "# Import libraries\n",
    "\n",
    "# sklearn\n",
    "from sklearn.feature_extraction.text import CountVectorizer, TfidfTransformer\n",
    "from sklearn.model_selection import train_test_split\n",
    "from sklearn.naive_bayes import MultinomialNB\n",
    "from sklearn.linear_model import LogisticRegression\n",
    "from sklearn.svm import LinearSVC\n",
    "from sklearn.metrics import accuracy_score, confusion_matrix, classification_report\n",
    "from sklearn.calibration import CalibratedClassifierCV\n",
    "\n",
    "import matplotlib.pyplot as plt\n",
    "import seaborn as sns; sns.set()\n",
    "import pandas as pd # data processing, CSV file I/O (e.g. pd.read_csv)\n",
    "import pickle\n",
    "import os\n",
    "import re\n",
    "import time\n",
    "from collections import Counter\n",
    "from collections import defaultdict\n",
    "\n",
    "# Word Cloud \n",
    "from wordcloud import WordCloud\n",
    "\n",
    "# plotly\n",
    "import plotly\n",
    "import plotly.graph_objs as go\n",
    "from plotly.offline import init_notebook_mode; init_notebook_mode(connected=True)\n",
    "from plotly import tools\n",
    "\n",
    "# nltk\n",
    "from nltk.corpus import stopwords\n",
    "stop_words=set(stopwords.words('english'))\n",
    "stop_words.remove('no')\n",
    "stop_words.remove('not')\n",
    "stop_words.add('company')\n",
    "stop_words.add('work')\n",
    "stop_words.add('people')\n",
    "stop_words.add('ever')\n",
    "from nltk.tokenize import RegexpTokenizer; tokenizer = RegexpTokenizer(r'\\w+')\n",
    "from nltk.stem import WordNetLemmatizer\n",
    "from nltk import ngrams, word_tokenize"
   ]
  },
  {
   "cell_type": "code",
   "execution_count": 2,
   "metadata": {},
   "outputs": [],
   "source": [
    "# initialize dataframe\n",
    "start = time.time()\n",
    "df = pd.read_csv('data/employee_reviews.csv', index_col=0)\n",
    "df = df[['pros', 'cons']]"
   ]
  },
  {
   "cell_type": "code",
   "execution_count": 3,
   "metadata": {},
   "outputs": [
    {
     "data": {
      "text/html": [
       "<div>\n",
       "<style scoped>\n",
       "    .dataframe tbody tr th:only-of-type {\n",
       "        vertical-align: middle;\n",
       "    }\n",
       "\n",
       "    .dataframe tbody tr th {\n",
       "        vertical-align: top;\n",
       "    }\n",
       "\n",
       "    .dataframe thead th {\n",
       "        text-align: right;\n",
       "    }\n",
       "</style>\n",
       "<table border=\"1\" class=\"dataframe\">\n",
       "  <thead>\n",
       "    <tr style=\"text-align: right;\">\n",
       "      <th></th>\n",
       "      <th>pros</th>\n",
       "      <th>cons</th>\n",
       "    </tr>\n",
       "  </thead>\n",
       "  <tbody>\n",
       "    <tr>\n",
       "      <th>1</th>\n",
       "      <td>People are smart and friendly</td>\n",
       "      <td>Bureaucracy is slowing things down</td>\n",
       "    </tr>\n",
       "    <tr>\n",
       "      <th>2</th>\n",
       "      <td>1) Food, food, food. 15+ cafes on main campus ...</td>\n",
       "      <td>1) Work/life balance. What balance? All those ...</td>\n",
       "    </tr>\n",
       "    <tr>\n",
       "      <th>3</th>\n",
       "      <td>* If you're a software engineer, you're among ...</td>\n",
       "      <td>* It *is* becoming larger, and with it comes g...</td>\n",
       "    </tr>\n",
       "    <tr>\n",
       "      <th>4</th>\n",
       "      <td>You can't find a more well-regarded company th...</td>\n",
       "      <td>I live in SF so the commute can take between 1...</td>\n",
       "    </tr>\n",
       "    <tr>\n",
       "      <th>5</th>\n",
       "      <td>Google is a world of its own. At every other c...</td>\n",
       "      <td>If you don't work in MTV (HQ), you will be giv...</td>\n",
       "    </tr>\n",
       "  </tbody>\n",
       "</table>\n",
       "</div>"
      ],
      "text/plain": [
       "                                                pros  \\\n",
       "1                      People are smart and friendly   \n",
       "2  1) Food, food, food. 15+ cafes on main campus ...   \n",
       "3  * If you're a software engineer, you're among ...   \n",
       "4  You can't find a more well-regarded company th...   \n",
       "5  Google is a world of its own. At every other c...   \n",
       "\n",
       "                                                cons  \n",
       "1                 Bureaucracy is slowing things down  \n",
       "2  1) Work/life balance. What balance? All those ...  \n",
       "3  * It *is* becoming larger, and with it comes g...  \n",
       "4  I live in SF so the commute can take between 1...  \n",
       "5  If you don't work in MTV (HQ), you will be giv...  "
      ]
     },
     "execution_count": 3,
     "metadata": {},
     "output_type": "execute_result"
    }
   ],
   "source": [
    "df.head()"
   ]
  },
  {
   "cell_type": "code",
   "execution_count": 4,
   "metadata": {},
   "outputs": [],
   "source": [
    "# contraction removal\n",
    "contraction_dict = {\"ain't\": \"is not\", \"aren't\": \"are not\",\"can't\": \"cannot\", \"'cause\": \"because\", \"could've\": \"could have\", \"couldn't\": \"could not\", \"didn't\": \"did not\",  \"doesn't\": \"does not\", \"don't\": \"do not\", \"hadn't\": \"had not\", \"hasn't\": \"has not\", \"haven't\": \"have not\", \"he'd\": \"he would\",\"he'll\": \"he will\", \"he's\": \"he is\", \"how'd\": \"how did\", \"how'd'y\": \"how do you\", \"how'll\": \"how will\", \"how's\": \"how is\",  \"I'd\": \"I would\", \"I'd've\": \"I would have\", \"I'll\": \"I will\", \"I'll've\": \"I will have\",\"I'm\": \"I am\", \"I've\": \"I have\", \"i'd\": \"i would\", \"i'd've\": \"i would have\", \"i'll\": \"i will\",  \"i'll've\": \"i will have\",\"i'm\": \"i am\", \"i've\": \"i have\", \"isn't\": \"is not\", \"it'd\": \"it would\", \"it'd've\": \"it would have\", \"it'll\": \"it will\", \"it'll've\": \"it will have\",\"it's\": \"it is\", \"let's\": \"let us\", \"ma'am\": \"madam\", \"mayn't\": \"may not\", \"might've\": \"might have\",\"mightn't\": \"might not\",\"mightn't've\": \"might not have\", \"must've\": \"must have\", \"mustn't\": \"must not\", \"mustn't've\": \"must not have\", \"needn't\": \"need not\", \"needn't've\": \"need not have\",\"o'clock\": \"of the clock\", \"oughtn't\": \"ought not\", \"oughtn't've\": \"ought not have\", \"shan't\": \"shall not\", \"sha'n't\": \"shall not\", \"shan't've\": \"shall not have\", \"she'd\": \"she would\", \"she'd've\": \"she would have\", \"she'll\": \"she will\", \"she'll've\": \"she will have\", \"she's\": \"she is\", \"should've\": \"should have\", \"shouldn't\": \"should not\", \"shouldn't've\": \"should not have\", \"so've\": \"so have\",\"so's\": \"so as\", \"this's\": \"this is\",\"that'd\": \"that would\", \"that'd've\": \"that would have\", \"that's\": \"that is\", \"there'd\": \"there would\", \"there'd've\": \"there would have\", \"there's\": \"there is\", \"here's\": \"here is\",\"they'd\": \"they would\", \"they'd've\": \"they would have\", \"they'll\": \"they will\", \"they'll've\": \"they will have\", \"they're\": \"they are\", \"they've\": \"they have\", \"to've\": \"to have\", \"wasn't\": \"was not\", \"we'd\": \"we would\", \"we'd've\": \"we would have\", \"we'll\": \"we will\", \"we'll've\": \"we will have\", \"we're\": \"we are\", \"we've\": \"we have\", \"weren't\": \"were not\", \"what'll\": \"what will\", \"what'll've\": \"what will have\", \"what're\": \"what are\",  \"what's\": \"what is\", \"what've\": \"what have\", \"when's\": \"when is\", \"when've\": \"when have\", \"where'd\": \"where did\", \"where's\": \"where is\", \"where've\": \"where have\", \"who'll\": \"who will\", \"who'll've\": \"who will have\", \"who's\": \"who is\", \"who've\": \"who have\", \"why's\": \"why is\", \"why've\": \"why have\", \"will've\": \"will have\", \"won't\": \"will not\", \"won't've\": \"will not have\", \"would've\": \"would have\", \"wouldn't\": \"would not\", \"wouldn't've\": \"would not have\", \"y'all\": \"you all\", \"y'all'd\": \"you all would\",\"y'all'd've\": \"you all would have\",\"y'all're\": \"you all are\",\"y'all've\": \"you all have\",\"you'd\": \"you would\", \"you'd've\": \"you would have\", \"you'll\": \"you will\", \"you'll've\": \"you will have\", \"you're\": \"you are\", \"you've\": \"you have\"}"
   ]
  },
  {
   "cell_type": "code",
   "execution_count": 5,
   "metadata": {},
   "outputs": [],
   "source": [
    "def _get_contractions(contraction_dict):\n",
    "    contraction_re = re.compile('(%s)' % '|'.join(contraction_dict.keys()))\n",
    "    return contraction_dict, contraction_re\n",
    "\n",
    "contractions, contractions_re = _get_contractions(contraction_dict)\n",
    "\n",
    "def replace_contractions(text):\n",
    "    def replace(match):\n",
    "        return contractions[match.group(0)]\n",
    "    return contractions_re.sub(replace, text)"
   ]
  },
  {
   "cell_type": "code",
   "execution_count": 6,
   "metadata": {},
   "outputs": [],
   "source": [
    "# tokenization with stop words removed\n",
    "pros_batch = list()\n",
    "cons_batch = list()\n",
    "for pros, cons in zip(df['pros'], df['cons']):\n",
    "    pros = replace_contractions(pros)\n",
    "    words = tokenizer.tokenize(str(pros))\n",
    "    pros_batch.append(words)\n",
    "    cons = replace_contractions(cons)\n",
    "    words = tokenizer.tokenize(str(cons))\n",
    "    cons_batch.append(words)  "
   ]
  },
  {
   "cell_type": "code",
   "execution_count": 7,
   "metadata": {},
   "outputs": [],
   "source": [
    "# lemmatization\n",
    "pros_lem = list()\n",
    "cons_lem = list()\n",
    "for p, c in zip(pros_batch, cons_batch):\n",
    "    pros_no_stop = [word.lower() for word in p if word.lower() not in stop_words]\n",
    "    lemm = WordNetLemmatizer()\n",
    "    pros_lem_temp = [lemm.lemmatize(word) for word in pros_no_stop]\n",
    "    pros_lem.append(\" \".join(pros_lem_temp))\n",
    "    cons_no_stop = [word.lower() for word in c if word.lower() not in stop_words]\n",
    "    lemm = WordNetLemmatizer()\n",
    "    cons_lem_temp = [lemm.lemmatize(word) for word in cons_no_stop]\n",
    "    cons_lem.append(\" \".join(cons_lem_temp))"
   ]
  },
  {
   "cell_type": "code",
   "execution_count": 8,
   "metadata": {},
   "outputs": [],
   "source": [
    "# combine all reviews into one long list\n",
    "batch = pros_lem + cons_lem\n",
    "# pros are labeled as '1' and cons are labeled as '0'\n",
    "labels = [1] * len(pros_batch) + [0] * len(cons_batch)"
   ]
  },
  {
   "cell_type": "code",
   "execution_count": 9,
   "metadata": {},
   "outputs": [],
   "source": [
    "# specify path for saving models\n",
    "path = 'models'\n",
    "if not os.path.exists(path):\n",
    "    os.mkdir(path)"
   ]
  },
  {
   "cell_type": "code",
   "execution_count": 10,
   "metadata": {},
   "outputs": [],
   "source": [
    "# building the classifier\n",
    "count_vec = CountVectorizer(ngram_range=(1,2))\n",
    "X_counts = count_vec.fit_transform(batch)\n",
    "\n",
    "tfidf_transformer = TfidfTransformer()\n",
    "X_tfidf = tfidf_transformer.fit_transform(X_counts)\n",
    "\n",
    "pickle.dump(count_vec, open(path + \"/\" + \"count_vec.pk1\", \"wb\"))\n",
    "\n",
    "# have 70% of the data as training data, 30% as testing data\n",
    "X_train, X_test, y_train, y_test = train_test_split(X_tfidf, labels, test_size=0.3)"
   ]
  },
  {
   "cell_type": "code",
   "execution_count": 11,
   "metadata": {},
   "outputs": [
    {
     "name": "stdout",
     "output_type": "stream",
     "text": [
      "Naive Bayes Accuracy on the companies dataset: 93.48%\n",
      "Model NB saved to path\n",
      "\n",
      "Naive Bayes Confustion Matrix\n"
     ]
    },
    {
     "data": {
      "image/png": "[encoded data removed]",
      "text/plain": [
       "<Figure size 432x288 with 1 Axes>"
      ]
     },
     "metadata": {
      "needs_background": "light"
     },
     "output_type": "display_data"
    }
   ],
   "source": [
    "# Naive Bayes Classifier: ~93.5% accuracy\n",
    "nb = MultinomialNB()\n",
    "nb.fit(X_train, y_train)\n",
    "y_pred = nb.predict(X_test)\n",
    "    \n",
    "acc = accuracy_score(y_test, y_pred)\n",
    "print(\"Naive Bayes Accuracy on the companies dataset: {:.2f}%\".format(acc*100))\n",
    "pickle.dump(nb, open(path + \"/\" + \"model_nb.pk1\", \"wb\"))\n",
    "print(\"Model NB saved to path\")\n",
    "\n",
    "# Visualizing the results using Confusion Matrix\n",
    "print(\"\\nNaive Bayes Confustion Matrix\")\n",
    "mat = confusion_matrix(y_test, y_pred)\n",
    "sns.heatmap(mat.T, square=True, annot=True, fmt='d', cbar=False,\n",
    "            xticklabels=['pros','cons'], yticklabels=['pros','cons'])\n",
    "plt.xlabel('true label')\n",
    "plt.ylabel('predicted label')\n",
    "plt.show()"
   ]
  },
  {
   "cell_type": "code",
   "execution_count": 12,
   "metadata": {},
   "outputs": [
    {
     "data": {
      "image/png": "[encoded data removed]",
      "text/plain": [
       "<Figure size 576x396 with 2 Axes>"
      ]
     },
     "metadata": {},
     "output_type": "display_data"
    }
   ],
   "source": [
    "from yellowbrick.classifier import ClassificationReport\n",
    "\n",
    "visualizer = ClassificationReport(nb, classes=['pros', 'cons'], support=True)\n",
    "visualizer.fit(X_train, y_train)  # Fit the visualizer and the model\n",
    "visualizer.score(X_test, y_test)  # Evaluate the model on the test data\n",
    "g = visualizer.poof()             # Draw/show/poof the data"
   ]
  },
  {
   "cell_type": "code",
   "execution_count": 13,
   "metadata": {},
   "outputs": [
    {
     "name": "stdout",
     "output_type": "stream",
     "text": [
      "\n",
      "Linear SVC Accuracy on the companies dataset: 94.32%\n",
      "Model LinearSVC saved to path\n",
      "\n",
      "Linear Support Vector Classifier Confustion Matrix\n"
     ]
    },
    {
     "data": {
      "image/png": "[encoded data removed]",
      "text/plain": [
       "<Figure size 576x396 with 1 Axes>"
      ]
     },
     "metadata": {},
     "output_type": "display_data"
    }
   ],
   "source": [
    "# Linear Support Vector Classifier: ~94.5% accuracy\n",
    "l_svc = CalibratedClassifierCV(base_estimator=LinearSVC(penalty='l2', dual=False), cv=5)\n",
    "l_svc.fit(X_train, y_train)\n",
    "y_pred = l_svc.predict(X_test)\n",
    "\n",
    "acc = accuracy_score(y_test, y_pred)\n",
    "print(\"\\nLinear SVC Accuracy on the companies dataset: {:.2f}%\".format(acc*100))\n",
    "pickle.dump(l_svc, open(path + \"/\" + \"model_lsvc.pk1\", \"wb\"))\n",
    "print(\"Model LinearSVC saved to path\")\n",
    "\n",
    "# Visualizing the results using Confusion Matrix\n",
    "print(\"\\nLinear Support Vector Classifier Confustion Matrix\")\n",
    "mat = confusion_matrix(y_test, y_pred)\n",
    "sns.heatmap(mat.T, square=True, annot=True, fmt='d', cbar=False,\n",
    "            xticklabels=['pros','cons'], yticklabels=['pros','cons'])\n",
    "plt.xlabel('true label')\n",
    "plt.ylabel('predicted label')\n",
    "plt.show()"
   ]
  },
  {
   "cell_type": "code",
   "execution_count": 14,
   "metadata": {},
   "outputs": [
    {
     "data": {
      "image/png": "[encoded data removed]",
      "text/plain": [
       "<Figure size 576x396 with 2 Axes>"
      ]
     },
     "metadata": {},
     "output_type": "display_data"
    }
   ],
   "source": [
    "visualizer = ClassificationReport(l_svc, classes=['pros', 'cons'], support=True)\n",
    "visualizer.fit(X_train, y_train)  # Fit the visualizer and the model\n",
    "visualizer.score(X_test, y_test)  # Evaluate the model on the test data\n",
    "g = visualizer.poof()             # Draw/show/poof the data"
   ]
  },
  {
   "cell_type": "code",
   "execution_count": 15,
   "metadata": {},
   "outputs": [
    {
     "name": "stdout",
     "output_type": "stream",
     "text": [
      "\n",
      "Logistic Regression Accuracy on the companies dataset: 93.61%\n",
      "Model Log Reg  saved to path\n",
      "\n",
      "Logistic Regression Confustion Matrix\n"
     ]
    },
    {
     "data": {
      "image/png": "[encoded data removed]",
      "text/plain": [
       "<Figure size 576x396 with 1 Axes>"
      ]
     },
     "metadata": {},
     "output_type": "display_data"
    }
   ],
   "source": [
    "# Logistic Regression: ~93% accuracy\n",
    "lr = LogisticRegression(solver='newton-cg')\n",
    "lr.fit(X_train, y_train)\n",
    "y_pred = lr.predict(X_test)\n",
    "\n",
    "acc = accuracy_score(y_test, y_pred)\n",
    "print(\"\\nLogistic Regression Accuracy on the companies dataset: {:.2f}%\".format(acc*100))\n",
    "pickle.dump(lr, open(path + \"/\" + \"model_lr.pk1\", \"wb\"))\n",
    "print(\"Model Log Reg  saved to path\")\n",
    "\n",
    "# Visualizing the results using Confusion Matrix\n",
    "print(\"\\nLogistic Regression Confustion Matrix\")\n",
    "mat = confusion_matrix(y_test, y_pred)\n",
    "sns.heatmap(mat.T, square=True, annot=True, fmt='d', cbar=False,\n",
    "            xticklabels=['pros','cons'], yticklabels=['pros','cons'])\n",
    "plt.xlabel('true label')\n",
    "plt.ylabel('predicted label')\n",
    "plt.show()"
   ]
  },
  {
   "cell_type": "code",
   "execution_count": 16,
   "metadata": {},
   "outputs": [
    {
     "data": {
      "image/png": "[encoded data removed]",
      "text/plain": [
       "<Figure size 576x396 with 2 Axes>"
      ]
     },
     "metadata": {},
     "output_type": "display_data"
    }
   ],
   "source": [
    "visualizer = ClassificationReport(lr, classes=['pros', 'cons'], support=True)\n",
    "visualizer.fit(X_train, y_train)  # Fit the visualizer and the model\n",
    "visualizer.score(X_test, y_test)  # Evaluate the model on the test data\n",
    "g = visualizer.poof()             # Draw/show/poof the data"
   ]
  },
  {
   "cell_type": "code",
   "execution_count": 17,
   "metadata": {},
   "outputs": [
    {
     "name": "stdout",
     "output_type": "stream",
     "text": [
      "\n",
      "Word Cloud of Positive Review\n"
     ]
    },
    {
     "data": {
      "image/png": "[encoded data removed]",
      "text/plain": [
       "<Figure size 576x396 with 1 Axes>"
      ]
     },
     "metadata": {},
     "output_type": "display_data"
    }
   ],
   "source": [
    "# Pros Word Cloud\n",
    "pros_cloud = list()\n",
    "for sent in pros_lem:\n",
    "    tmp = sent.split()\n",
    "    pros_cloud += tmp\n",
    "\n",
    "print(\"\\nWord Cloud of Positive Review\")\n",
    "word_cnt = Counter(pros_cloud)\n",
    "reviews_cloud = WordCloud(background_color='black', width=1280, height=720).generate_from_frequencies(word_cnt)\n",
    "plt.imshow(reviews_cloud)\n",
    "plt.axis('off')\n",
    "plt.show()"
   ]
  },
  {
   "cell_type": "code",
   "execution_count": 18,
   "metadata": {},
   "outputs": [
    {
     "name": "stdout",
     "output_type": "stream",
     "text": [
      "\n",
      "Word Cloud of Negative Review\n"
     ]
    },
    {
     "data": {
      "image/png": "[encoded data removed]",
      "text/plain": [
       "<Figure size 576x396 with 1 Axes>"
      ]
     },
     "metadata": {},
     "output_type": "display_data"
    }
   ],
   "source": [
    "# Cons Word Cloud\n",
    "cons_cloud = list()\n",
    "for sent in cons_lem:\n",
    "    tmp = sent.split()\n",
    "    cons_cloud += tmp\n",
    "\n",
    "print(\"\\nWord Cloud of Negative Review\")\n",
    "word_cnt = Counter(cons_cloud)\n",
    "reviews_cloud = WordCloud(background_color='black', width=1280, height=720).generate_from_frequencies(word_cnt)\n",
    "plt.imshow(reviews_cloud)\n",
    "plt.axis('off')\n",
    "plt.show()"
   ]
  },
  {
   "cell_type": "code",
   "execution_count": 19,
   "metadata": {},
   "outputs": [],
   "source": [
    "# n grams\n",
    "plot_path = 'plot'\n",
    "\n",
    "## custom function for horizontal bar chart ##\n",
    "def horizontal_bar_chart(df, color):\n",
    "    trace = go.Bar(\n",
    "        y=df[\"word\"].values[::-1],\n",
    "        x=df[\"wordFreq\"].values[::-1],\n",
    "        showlegend=False,\n",
    "        orientation = 'h',\n",
    "        marker=dict(\n",
    "            color=color,\n",
    "        )\n",
    "    )\n",
    "    return trace\n",
    "\n",
    "# tokenize words in pros/cons_lemm for n grams\n",
    "pros_token = list()\n",
    "cons_token = list()\n",
    "for p, c in zip(pros_lem, cons_lem):\n",
    "    pros_token.append(word_tokenize(p))\n",
    "    cons_token.append(word_tokenize(c))\n",
    "    \n",
    "reviews_batch = pros_token + cons_token"
   ]
  },
  {
   "cell_type": "code",
   "execution_count": 20,
   "metadata": {},
   "outputs": [
    {
     "name": "stdout",
     "output_type": "stream",
     "text": [
      "This is the format of your plot grid:\n",
      "[ (1,1) x1,y1 ]  [ (1,2) x2,y2 ]\n",
      "\n"
     ]
    },
    {
     "data": {
      "application/vnd.plotly.v1+json": {
       "config": {
        "linkText": "Export to plot.ly",
        "plotlyServerURL": "https://plot.ly",
        "responsive": true,
        "showLink": false
       },
       "data": [
        {
         "marker": {
          "color": "#077A07"
         },
         "orientation": "h",
         "showlegend": false,
         "type": "bar",
         "uid": "a66386a6-17ab-4700-ad0b-3682f786e00e",
         "x": [
          2696,
          2776,
          2811,
          2832,
          2854,
          2899,
          2907,
          2977,
          3027,
          3051,
          3071,
          3170,
          3180,
          3300,
          3319,
          3332,
          3340,
          3341,
          3363,
          3364,
          3417,
          3468,
          3491,
          3533,
          3651,
          3771,
          3985,
          4255,
          4374,
          4705,
          4789,
          4938,
          5100,
          5169,
          5682,
          5764,
          5801,
          6303,
          6353,
          6437,
          6698,
          6721,
          6839,
          8361,
          8797,
          9212,
          10141,
          17293,
          22533,
          27650
         ],
         "xaxis": "x2",
         "y": [
          "no",
          "fast",
          "one",
          "free",
          "project",
          "growth",
          "flexible",
          "thing",
          "well",
          "experience",
          "apple",
          "many",
          "fun",
          "management",
          "hour",
          "perk",
          "salary",
          "like",
          "customer",
          "career",
          "make",
          "nice",
          "technology",
          "day",
          "new",
          "balance",
          "amazing",
          "really",
          "amazon",
          "best",
          "learn",
          "life",
          "product",
          "job",
          "time",
          "place",
          "employee",
          "team",
          "smart",
          "get",
          "working",
          "culture",
          "not",
          "environment",
          "pay",
          "opportunity",
          "lot",
          "benefit",
          "good",
          "great"
         ],
         "yaxis": "y2"
        }
       ],
       "layout": {
        "annotations": [
         {
          "font": {
           "size": 16
          },
          "showarrow": false,
          "text": "Frequent Unigram of Positive Reviews",
          "x": 0.7625,
          "xanchor": "center",
          "xref": "paper",
          "y": 1,
          "yanchor": "bottom",
          "yref": "paper"
         }
        ],
        "height": 1080,
        "paper_bgcolor": "rgb(233,233,233)",
        "title": {
         "text": "Unigram Plots of Positive Reviews Keywords after removing Stopwords"
        },
        "width": 800,
        "xaxis": {
         "anchor": "y",
         "domain": [
          0,
          0.475
         ]
        },
        "xaxis2": {
         "anchor": "y2",
         "domain": [
          0.525,
          1
         ]
        },
        "yaxis": {
         "anchor": "x",
         "domain": [
          0,
          1
         ]
        },
        "yaxis2": {
         "anchor": "x2",
         "domain": [
          0,
          1
         ]
        }
       }
      },
      "text/html": [
       "<div>\n",
       "        \n",
       "        \n",
       "            <div id=\"a549aab0-ee1d-443a-a05a-a652256dda70\" class=\"plotly-graph-div\" style=\"height:1080px; width:800px;\"></div>\n",
       "            <script type=\"text/javascript\">\n",
       "                require([\"plotly\"], function(Plotly) {\n",
       "                    window.PLOTLYENV=window.PLOTLYENV || {};\n",
       "                    window.PLOTLYENV.BASE_URL='https://plot.ly';\n",
       "                    \n",
       "                if (document.getElementById(\"a549aab0-ee1d-443a-a05a-a652256dda70\")) {\n",
       "                    Plotly.newPlot(\n",
       "                        'a549aab0-ee1d-443a-a05a-a652256dda70',\n",
       "                        [{\"marker\": {\"color\": \"#077A07\"}, \"orientation\": \"h\", \"showlegend\": false, \"type\": \"bar\", \"uid\": \"bcca88bd-33e5-41d2-84d9-13c1d252f202\", \"x\": [2696, 2776, 2811, 2832, 2854, 2899, 2907, 2977, 3027, 3051, 3071, 3170, 3180, 3300, 3319, 3332, 3340, 3341, 3363, 3364, 3417, 3468, 3491, 3533, 3651, 3771, 3985, 4255, 4374, 4705, 4789, 4938, 5100, 5169, 5682, 5764, 5801, 6303, 6353, 6437, 6698, 6721, 6839, 8361, 8797, 9212, 10141, 17293, 22533, 27650], \"xaxis\": \"x2\", \"y\": [\"no\", \"fast\", \"one\", \"free\", \"project\", \"growth\", \"flexible\", \"thing\", \"well\", \"experience\", \"apple\", \"many\", \"fun\", \"management\", \"hour\", \"perk\", \"salary\", \"like\", \"customer\", \"career\", \"make\", \"nice\", \"technology\", \"day\", \"new\", \"balance\", \"amazing\", \"really\", \"amazon\", \"best\", \"learn\", \"life\", \"product\", \"job\", \"time\", \"place\", \"employee\", \"team\", \"smart\", \"get\", \"working\", \"culture\", \"not\", \"environment\", \"pay\", \"opportunity\", \"lot\", \"benefit\", \"good\", \"great\"], \"yaxis\": \"y2\"}],\n",
       "                        {\"annotations\": [{\"font\": {\"size\": 16}, \"showarrow\": false, \"text\": \"Frequent Unigram of Positive Reviews\", \"x\": 0.7625, \"xanchor\": \"center\", \"xref\": \"paper\", \"y\": 1.0, \"yanchor\": \"bottom\", \"yref\": \"paper\"}], \"height\": 1080, \"paper_bgcolor\": \"rgb(233,233,233)\", \"title\": {\"text\": \"Unigram Plots of Positive Reviews Keywords after removing Stopwords\"}, \"width\": 800, \"xaxis\": {\"anchor\": \"y\", \"domain\": [0.0, 0.475]}, \"xaxis2\": {\"anchor\": \"y2\", \"domain\": [0.525, 1.0]}, \"yaxis\": {\"anchor\": \"x\", \"domain\": [0.0, 1.0]}, \"yaxis2\": {\"anchor\": \"x2\", \"domain\": [0.0, 1.0]}},\n",
       "                        {\"showLink\": false, \"linkText\": \"Export to plot.ly\", \"plotlyServerURL\": \"https://plot.ly\", \"responsive\": true}\n",
       "                    ).then(function(){\n",
       "                            \n",
       "var gd = document.getElementById('a549aab0-ee1d-443a-a05a-a652256dda70');\n",
       "var x = new MutationObserver(function (mutations, observer) {{\n",
       "        var display = window.getComputedStyle(gd).display;\n",
       "        if (!display || display === 'none') {{\n",
       "            console.log([gd, 'removed!']);\n",
       "            Plotly.purge(gd);\n",
       "            observer.disconnect();\n",
       "        }}\n",
       "}});\n",
       "\n",
       "// Listen for the removal of the full notebook cells\n",
       "var notebookContainer = gd.closest('#notebook-container');\n",
       "if (notebookContainer) {{\n",
       "    x.observe(notebookContainer, {childList: true});\n",
       "}}\n",
       "\n",
       "// Listen for the clearing of the current output cell\n",
       "var outputEl = gd.closest('.output');\n",
       "if (outputEl) {{\n",
       "    x.observe(outputEl, {childList: true});\n",
       "}}\n",
       "\n",
       "                        })\n",
       "                };\n",
       "                });\n",
       "            </script>\n",
       "        </div>"
      ]
     },
     "metadata": {},
     "output_type": "display_data"
    }
   ],
   "source": [
    "# Plotting the unigram plot (Pros)\n",
    "reviews_df = pd.DataFrame({'Reviews':pros_token})\n",
    "unigram_dict = defaultdict(int)\n",
    "\n",
    "for sentence in reviews_df[\"Reviews\"]:\n",
    "    if len(sentence) > 1:\n",
    "        bigram = ngrams(sentence, 1)\n",
    "        for gram in bigram:\n",
    "            unigram_dict[\" \".join([g for g in gram])] += 1\n",
    "\n",
    "\n",
    "fd_sorted = pd.DataFrame(sorted(unigram_dict.items(), key=lambda x: x[1])[::-1])\n",
    "fd_sorted.columns = [\"word\", \"wordFreq\"]\n",
    "sym_2 = horizontal_bar_chart(fd_sorted.head(50), '#077A07')\n",
    "                             \n",
    "fig = tools.make_subplots(\n",
    "        rows=1, \n",
    "        cols=2, \n",
    "        vertical_spacing=0.04,\n",
    "        horizontal_spacing=0.05,\n",
    "        subplot_titles=[\"\",\"Frequent Unigram of Positive Reviews\"])\n",
    "fig.append_trace(sym_2, 1, 2)\n",
    "fig['layout'].update(\n",
    "        height=1080, \n",
    "        width=800, \n",
    "        paper_bgcolor='rgb(233,233,233)', \n",
    "        title=\"Unigram Plots of Positive Reviews Keywords after removing Stopwords\")\n",
    "plotly.offline.iplot(fig) # jupyter notebook only"
   ]
  },
  {
   "cell_type": "code",
   "execution_count": 21,
   "metadata": {},
   "outputs": [
    {
     "name": "stdout",
     "output_type": "stream",
     "text": [
      "This is the format of your plot grid:\n",
      "[ (1,1) x1,y1 ]  [ (1,2) x2,y2 ]\n",
      "\n"
     ]
    },
    {
     "data": {
      "application/vnd.plotly.v1+json": {
       "config": {
        "linkText": "Export to plot.ly",
        "plotlyServerURL": "https://plot.ly",
        "responsive": true,
        "showLink": false
       },
       "data": [
        {
         "marker": {
          "color": "#CC3333"
         },
         "orientation": "h",
         "showlegend": false,
         "type": "bar",
         "uid": "d22351fc-444d-47c9-824c-9945e066b87d",
         "x": [
          445,
          449,
          454,
          454,
          460,
          463,
          463,
          470,
          474,
          479,
          483,
          493,
          519,
          525,
          527,
          534,
          538,
          585,
          588,
          598,
          600,
          621,
          626,
          628,
          630,
          654,
          664,
          668,
          693,
          715,
          823,
          838,
          876,
          881,
          883,
          951,
          955,
          959,
          1058,
          1085,
          1104,
          1170,
          1217,
          1351,
          1482,
          1758,
          1928,
          2435,
          3525,
          4100
         ],
         "xaxis": "x2",
         "y": [
          "really smart",
          "great life",
          "excellent benefit",
          "full time",
          "best place",
          "growth opportunity",
          "leadership principle",
          "environment good",
          "care employee",
          "feel like",
          "health benefit",
          "flexible schedule",
          "stock option",
          "great perk",
          "lot smart",
          "great team",
          "environment great",
          "good culture",
          "great product",
          "great opportunity",
          "great great",
          "every day",
          "cutting edge",
          "part time",
          "pay great",
          "opportunity learn",
          "decent pay",
          "good environment",
          "flexible hour",
          "good place",
          "free food",
          "pay good",
          "working environment",
          "great environment",
          "good salary",
          "good life",
          "learn lot",
          "pay benefit",
          "great culture",
          "benefit good",
          "great pay",
          "lot opportunity",
          "benefit great",
          "fast paced",
          "co worker",
          "great place",
          "good pay",
          "good benefit",
          "life balance",
          "great benefit"
         ],
         "yaxis": "y2"
        }
       ],
       "layout": {
        "annotations": [
         {
          "font": {
           "size": 16
          },
          "showarrow": false,
          "text": "Frequent Bigrams of Positive Reviews",
          "x": 0.7625,
          "xanchor": "center",
          "xref": "paper",
          "y": 1,
          "yanchor": "bottom",
          "yref": "paper"
         }
        ],
        "height": 1080,
        "paper_bgcolor": "rgb(233,233,233)",
        "title": {
         "text": "Bigram Plots of Positive Reviews Keywords after removing Stopwords"
        },
        "width": 800,
        "xaxis": {
         "anchor": "y",
         "domain": [
          0,
          0.475
         ]
        },
        "xaxis2": {
         "anchor": "y2",
         "domain": [
          0.525,
          1
         ]
        },
        "yaxis": {
         "anchor": "x",
         "domain": [
          0,
          1
         ]
        },
        "yaxis2": {
         "anchor": "x2",
         "domain": [
          0,
          1
         ]
        }
       }
      },
      "text/html": [
       "<div>\n",
       "        \n",
       "        \n",
       "            <div id=\"97b69af4-4b7d-4119-89eb-c1d55044bdf2\" class=\"plotly-graph-div\" style=\"height:1080px; width:800px;\"></div>\n",
       "            <script type=\"text/javascript\">\n",
       "                require([\"plotly\"], function(Plotly) {\n",
       "                    window.PLOTLYENV=window.PLOTLYENV || {};\n",
       "                    window.PLOTLYENV.BASE_URL='https://plot.ly';\n",
       "                    \n",
       "                if (document.getElementById(\"97b69af4-4b7d-4119-89eb-c1d55044bdf2\")) {\n",
       "                    Plotly.newPlot(\n",
       "                        '97b69af4-4b7d-4119-89eb-c1d55044bdf2',\n",
       "                        [{\"marker\": {\"color\": \"#CC3333\"}, \"orientation\": \"h\", \"showlegend\": false, \"type\": \"bar\", \"uid\": \"f27da0f6-906d-4f18-b5db-3ea481c3dcc6\", \"x\": [445, 449, 454, 454, 460, 463, 463, 470, 474, 479, 483, 493, 519, 525, 527, 534, 538, 585, 588, 598, 600, 621, 626, 628, 630, 654, 664, 668, 693, 715, 823, 838, 876, 881, 883, 951, 955, 959, 1058, 1085, 1104, 1170, 1217, 1351, 1482, 1758, 1928, 2435, 3525, 4100], \"xaxis\": \"x2\", \"y\": [\"really smart\", \"great life\", \"excellent benefit\", \"full time\", \"best place\", \"growth opportunity\", \"leadership principle\", \"environment good\", \"care employee\", \"feel like\", \"health benefit\", \"flexible schedule\", \"stock option\", \"great perk\", \"lot smart\", \"great team\", \"environment great\", \"good culture\", \"great product\", \"great opportunity\", \"great great\", \"every day\", \"cutting edge\", \"part time\", \"pay great\", \"opportunity learn\", \"decent pay\", \"good environment\", \"flexible hour\", \"good place\", \"free food\", \"pay good\", \"working environment\", \"great environment\", \"good salary\", \"good life\", \"learn lot\", \"pay benefit\", \"great culture\", \"benefit good\", \"great pay\", \"lot opportunity\", \"benefit great\", \"fast paced\", \"co worker\", \"great place\", \"good pay\", \"good benefit\", \"life balance\", \"great benefit\"], \"yaxis\": \"y2\"}],\n",
       "                        {\"annotations\": [{\"font\": {\"size\": 16}, \"showarrow\": false, \"text\": \"Frequent Bigrams of Positive Reviews\", \"x\": 0.7625, \"xanchor\": \"center\", \"xref\": \"paper\", \"y\": 1.0, \"yanchor\": \"bottom\", \"yref\": \"paper\"}], \"height\": 1080, \"paper_bgcolor\": \"rgb(233,233,233)\", \"title\": {\"text\": \"Bigram Plots of Positive Reviews Keywords after removing Stopwords\"}, \"width\": 800, \"xaxis\": {\"anchor\": \"y\", \"domain\": [0.0, 0.475]}, \"xaxis2\": {\"anchor\": \"y2\", \"domain\": [0.525, 1.0]}, \"yaxis\": {\"anchor\": \"x\", \"domain\": [0.0, 1.0]}, \"yaxis2\": {\"anchor\": \"x2\", \"domain\": [0.0, 1.0]}},\n",
       "                        {\"showLink\": false, \"linkText\": \"Export to plot.ly\", \"plotlyServerURL\": \"https://plot.ly\", \"responsive\": true}\n",
       "                    ).then(function(){\n",
       "                            \n",
       "var gd = document.getElementById('97b69af4-4b7d-4119-89eb-c1d55044bdf2');\n",
       "var x = new MutationObserver(function (mutations, observer) {{\n",
       "        var display = window.getComputedStyle(gd).display;\n",
       "        if (!display || display === 'none') {{\n",
       "            console.log([gd, 'removed!']);\n",
       "            Plotly.purge(gd);\n",
       "            observer.disconnect();\n",
       "        }}\n",
       "}});\n",
       "\n",
       "// Listen for the removal of the full notebook cells\n",
       "var notebookContainer = gd.closest('#notebook-container');\n",
       "if (notebookContainer) {{\n",
       "    x.observe(notebookContainer, {childList: true});\n",
       "}}\n",
       "\n",
       "// Listen for the clearing of the current output cell\n",
       "var outputEl = gd.closest('.output');\n",
       "if (outputEl) {{\n",
       "    x.observe(outputEl, {childList: true});\n",
       "}}\n",
       "\n",
       "                        })\n",
       "                };\n",
       "                });\n",
       "            </script>\n",
       "        </div>"
      ]
     },
     "metadata": {},
     "output_type": "display_data"
    }
   ],
   "source": [
    "# Plotting the bigram plot (Pros)\n",
    "reviews_df = pd.DataFrame({'Reviews':pros_token})\n",
    "bigram_dict = defaultdict(int)\n",
    "\n",
    "for sentence in reviews_df[\"Reviews\"]:\n",
    "    if len(sentence) > 1:\n",
    "        bigram = ngrams(sentence, 2)\n",
    "        for gram in bigram:\n",
    "            bigram_dict[\" \".join([g for g in gram])] += 1\n",
    "\n",
    "\n",
    "fd_sorted = pd.DataFrame(sorted(bigram_dict.items(), key=lambda x: x[1])[::-1])\n",
    "fd_sorted.columns = [\"word\", \"wordFreq\"]\n",
    "sym_2 = horizontal_bar_chart(fd_sorted.head(50), '#CC3333')\n",
    "                             \n",
    "fig = tools.make_subplots(\n",
    "        rows=1, \n",
    "        cols=2, \n",
    "        vertical_spacing=0.04,\n",
    "        horizontal_spacing=0.05,\n",
    "        subplot_titles=[\"\",\"Frequent Bigrams of Positive Reviews\"])\n",
    "fig.append_trace(sym_2, 1, 2)\n",
    "fig['layout'].update(\n",
    "        height=1080, \n",
    "        width=800, \n",
    "        paper_bgcolor='rgb(233,233,233)', \n",
    "        title=\"Bigram Plots of Positive Reviews Keywords after removing Stopwords\")\n",
    "plotly.offline.iplot(fig) # jupyter notebook only"
   ]
  },
  {
   "cell_type": "code",
   "execution_count": 22,
   "metadata": {},
   "outputs": [
    {
     "name": "stdout",
     "output_type": "stream",
     "text": [
      "This is the format of your plot grid:\n",
      "[ (1,1) x1,y1 ]  [ (1,2) x2,y2 ]\n",
      "\n"
     ]
    },
    {
     "data": {
      "application/vnd.plotly.v1+json": {
       "config": {
        "linkText": "Export to plot.ly",
        "plotlyServerURL": "https://plot.ly",
        "responsive": true,
        "showLink": false
       },
       "data": [
        {
         "marker": {
          "color": "#333399"
         },
         "orientation": "h",
         "showlegend": false,
         "type": "bar",
         "uid": "a0f40ad1-ce56-4ded-b722-2d4517398498",
         "x": [
          94,
          94,
          95,
          96,
          96,
          98,
          99,
          100,
          103,
          107,
          109,
          111,
          111,
          112,
          113,
          116,
          117,
          119,
          121,
          130,
          131,
          133,
          141,
          143,
          148,
          150,
          154,
          159,
          175,
          187,
          200,
          201,
          207,
          207,
          213,
          217,
          217,
          223,
          231,
          235,
          236,
          239,
          241,
          248,
          297,
          324,
          385,
          391,
          428,
          927
         ],
         "xaxis": "x2",
         "y": [
          "learn something new",
          "great benefit pay",
          "benefit part time",
          "place start career",
          "good salary benefit",
          "benefit good life",
          "co worker great",
          "great benefit lot",
          "opportunity learn grow",
          "full time employee",
          "discount apple product",
          "great environment great",
          "good place learn",
          "take care employee",
          "good benefit great",
          "even part time",
          "great great benefit",
          "look good resume",
          "great culture great",
          "opportunity move around",
          "lot opportunity learn",
          "good pay great",
          "benefit good pay",
          "good salary good",
          "learn new thing",
          "part time employee",
          "smart co worker",
          "great working environment",
          "great pay great",
          "benefit life balance",
          "no dress code",
          "flexible working hour",
          "great co worker",
          "4 day week",
          "pay great benefit",
          "great place learn",
          "pay good benefit",
          "good working environment",
          "great benefit good",
          "good pay benefit",
          "life balance great",
          "great pay benefit",
          "good pay good",
          "good benefit good",
          "life balance good",
          "cutting edge technology",
          "fast paced environment",
          "great benefit great",
          "great life balance",
          "good life balance"
         ],
         "yaxis": "y2"
        }
       ],
       "layout": {
        "annotations": [
         {
          "font": {
           "size": 16
          },
          "showarrow": false,
          "text": "Frequent Trigrams of Positive Reviews",
          "x": 0.7625,
          "xanchor": "center",
          "xref": "paper",
          "y": 1,
          "yanchor": "bottom",
          "yref": "paper"
         }
        ],
        "height": 1080,
        "paper_bgcolor": "rgb(233,233,233)",
        "title": {
         "text": "Trigram Plots of Positive Reviews Keywords after removing Stopwords"
        },
        "width": 800,
        "xaxis": {
         "anchor": "y",
         "domain": [
          0,
          0.475
         ]
        },
        "xaxis2": {
         "anchor": "y2",
         "domain": [
          0.525,
          1
         ]
        },
        "yaxis": {
         "anchor": "x",
         "domain": [
          0,
          1
         ]
        },
        "yaxis2": {
         "anchor": "x2",
         "domain": [
          0,
          1
         ]
        }
       }
      },
      "text/html": [
       "<div>\n",
       "        \n",
       "        \n",
       "            <div id=\"991fe4d2-ce68-4cfb-8219-a8a74b53ec57\" class=\"plotly-graph-div\" style=\"height:1080px; width:800px;\"></div>\n",
       "            <script type=\"text/javascript\">\n",
       "                require([\"plotly\"], function(Plotly) {\n",
       "                    window.PLOTLYENV=window.PLOTLYENV || {};\n",
       "                    window.PLOTLYENV.BASE_URL='https://plot.ly';\n",
       "                    \n",
       "                if (document.getElementById(\"991fe4d2-ce68-4cfb-8219-a8a74b53ec57\")) {\n",
       "                    Plotly.newPlot(\n",
       "                        '991fe4d2-ce68-4cfb-8219-a8a74b53ec57',\n",
       "                        [{\"marker\": {\"color\": \"#333399\"}, \"orientation\": \"h\", \"showlegend\": false, \"type\": \"bar\", \"uid\": \"f9ded38d-a756-4e5a-9800-04510d004056\", \"x\": [94, 94, 95, 96, 96, 98, 99, 100, 103, 107, 109, 111, 111, 112, 113, 116, 117, 119, 121, 130, 131, 133, 141, 143, 148, 150, 154, 159, 175, 187, 200, 201, 207, 207, 213, 217, 217, 223, 231, 235, 236, 239, 241, 248, 297, 324, 385, 391, 428, 927], \"xaxis\": \"x2\", \"y\": [\"learn something new\", \"great benefit pay\", \"benefit part time\", \"place start career\", \"good salary benefit\", \"benefit good life\", \"co worker great\", \"great benefit lot\", \"opportunity learn grow\", \"full time employee\", \"discount apple product\", \"great environment great\", \"good place learn\", \"take care employee\", \"good benefit great\", \"even part time\", \"great great benefit\", \"look good resume\", \"great culture great\", \"opportunity move around\", \"lot opportunity learn\", \"good pay great\", \"benefit good pay\", \"good salary good\", \"learn new thing\", \"part time employee\", \"smart co worker\", \"great working environment\", \"great pay great\", \"benefit life balance\", \"no dress code\", \"flexible working hour\", \"great co worker\", \"4 day week\", \"pay great benefit\", \"great place learn\", \"pay good benefit\", \"good working environment\", \"great benefit good\", \"good pay benefit\", \"life balance great\", \"great pay benefit\", \"good pay good\", \"good benefit good\", \"life balance good\", \"cutting edge technology\", \"fast paced environment\", \"great benefit great\", \"great life balance\", \"good life balance\"], \"yaxis\": \"y2\"}],\n",
       "                        {\"annotations\": [{\"font\": {\"size\": 16}, \"showarrow\": false, \"text\": \"Frequent Trigrams of Positive Reviews\", \"x\": 0.7625, \"xanchor\": \"center\", \"xref\": \"paper\", \"y\": 1.0, \"yanchor\": \"bottom\", \"yref\": \"paper\"}], \"height\": 1080, \"paper_bgcolor\": \"rgb(233,233,233)\", \"title\": {\"text\": \"Trigram Plots of Positive Reviews Keywords after removing Stopwords\"}, \"width\": 800, \"xaxis\": {\"anchor\": \"y\", \"domain\": [0.0, 0.475]}, \"xaxis2\": {\"anchor\": \"y2\", \"domain\": [0.525, 1.0]}, \"yaxis\": {\"anchor\": \"x\", \"domain\": [0.0, 1.0]}, \"yaxis2\": {\"anchor\": \"x2\", \"domain\": [0.0, 1.0]}},\n",
       "                        {\"showLink\": false, \"linkText\": \"Export to plot.ly\", \"plotlyServerURL\": \"https://plot.ly\", \"responsive\": true}\n",
       "                    ).then(function(){\n",
       "                            \n",
       "var gd = document.getElementById('991fe4d2-ce68-4cfb-8219-a8a74b53ec57');\n",
       "var x = new MutationObserver(function (mutations, observer) {{\n",
       "        var display = window.getComputedStyle(gd).display;\n",
       "        if (!display || display === 'none') {{\n",
       "            console.log([gd, 'removed!']);\n",
       "            Plotly.purge(gd);\n",
       "            observer.disconnect();\n",
       "        }}\n",
       "}});\n",
       "\n",
       "// Listen for the removal of the full notebook cells\n",
       "var notebookContainer = gd.closest('#notebook-container');\n",
       "if (notebookContainer) {{\n",
       "    x.observe(notebookContainer, {childList: true});\n",
       "}}\n",
       "\n",
       "// Listen for the clearing of the current output cell\n",
       "var outputEl = gd.closest('.output');\n",
       "if (outputEl) {{\n",
       "    x.observe(outputEl, {childList: true});\n",
       "}}\n",
       "\n",
       "                        })\n",
       "                };\n",
       "                });\n",
       "            </script>\n",
       "        </div>"
      ]
     },
     "metadata": {},
     "output_type": "display_data"
    }
   ],
   "source": [
    "# Plotting the trigram plot (Pros)\n",
    "trigram_dict = defaultdict(int)\n",
    "\n",
    "for sentence in reviews_df[\"Reviews\"]:\n",
    "    if len(sentence) > 1:\n",
    "        trigram = ngrams(sentence, 3)\n",
    "        for gram in trigram:\n",
    "            trigram_dict[\" \".join([g for g in gram])] += 1\n",
    "        \n",
    "fd_sorted = pd.DataFrame(sorted(trigram_dict.items(), key=lambda x: x[1])[::-1])\n",
    "fd_sorted.columns = [\"word\", \"wordFreq\"]\n",
    "sym_3 = horizontal_bar_chart(fd_sorted.head(50), '#333399')\n",
    "                             \n",
    "fig = tools.make_subplots(\n",
    "        rows=1, \n",
    "        cols=2, \n",
    "        vertical_spacing=0.04,\n",
    "        horizontal_spacing=0.05,\n",
    "        subplot_titles=[\"\", \"Frequent Trigrams of Positive Reviews\"])\n",
    "fig.append_trace(sym_3, 1, 2)\n",
    "fig['layout'].update(\n",
    "        height=1080, \n",
    "        width=800, \n",
    "        paper_bgcolor='rgb(233,233,233)', \n",
    "        title=\"Trigram Plots of Positive Reviews Keywords after removing Stopwords\")\n",
    "plotly.offline.iplot(fig) # jupyter notebook only"
   ]
  },
  {
   "cell_type": "code",
   "execution_count": 23,
   "metadata": {},
   "outputs": [
    {
     "name": "stdout",
     "output_type": "stream",
     "text": [
      "This is the format of your plot grid:\n",
      "[ (1,1) x1,y1 ]  [ (1,2) x2,y2 ]\n",
      "\n"
     ]
    },
    {
     "data": {
      "application/vnd.plotly.v1+json": {
       "config": {
        "linkText": "Export to plot.ly",
        "plotlyServerURL": "https://plot.ly",
        "responsive": true,
        "showLink": false
       },
       "data": [
        {
         "marker": {
          "color": "#077A07"
         },
         "orientation": "h",
         "showlegend": false,
         "type": "bar",
         "uid": "596f6df7-bf1c-4419-8a5d-be244f067113",
         "x": [
          2864,
          2980,
          2983,
          3011,
          3062,
          3063,
          3064,
          3074,
          3104,
          3137,
          3186,
          3219,
          3314,
          3340,
          3340,
          3343,
          3593,
          3681,
          3897,
          3987,
          4056,
          4081,
          4130,
          4157,
          4209,
          4386,
          4613,
          4739,
          4875,
          5001,
          5375,
          5399,
          5441,
          5658,
          5753,
          5796,
          6183,
          6245,
          6736,
          7214,
          7472,
          7955,
          8059,
          8297,
          9172,
          10662,
          11594,
          11906,
          12937,
          34445
         ],
         "xaxis": "x2",
         "y": [
          "apple",
          "big",
          "difficult",
          "con",
          "new",
          "little",
          "environment",
          "would",
          "great",
          "change",
          "career",
          "politics",
          "take",
          "bad",
          "level",
          "process",
          "even",
          "high",
          "culture",
          "pay",
          "customer",
          "really",
          "amazon",
          "thing",
          "need",
          "sometimes",
          "one",
          "year",
          "make",
          "day",
          "good",
          "working",
          "long",
          "hard",
          "many",
          "balance",
          "much",
          "like",
          "job",
          "life",
          "lot",
          "team",
          "employee",
          "hour",
          "manager",
          "management",
          "get",
          "time",
          "no",
          "not"
         ],
         "yaxis": "y2"
        }
       ],
       "layout": {
        "annotations": [
         {
          "font": {
           "size": 16
          },
          "showarrow": false,
          "text": "Frequent Unigrams of Negative Reviews",
          "x": 0.7625,
          "xanchor": "center",
          "xref": "paper",
          "y": 1,
          "yanchor": "bottom",
          "yref": "paper"
         }
        ],
        "height": 1080,
        "paper_bgcolor": "rgb(233,233,233)",
        "title": {
         "text": "Unigram Plots of Negative Reviews Keywords after removing Stopwords"
        },
        "width": 800,
        "xaxis": {
         "anchor": "y",
         "domain": [
          0,
          0.475
         ]
        },
        "xaxis2": {
         "anchor": "y2",
         "domain": [
          0.525,
          1
         ]
        },
        "yaxis": {
         "anchor": "x",
         "domain": [
          0,
          1
         ]
        },
        "yaxis2": {
         "anchor": "x2",
         "domain": [
          0,
          1
         ]
        }
       }
      },
      "text/html": [
       "<div>\n",
       "        \n",
       "        \n",
       "            <div id=\"37c6b8a3-4deb-4bdc-8e12-28628b2476a8\" class=\"plotly-graph-div\" style=\"height:1080px; width:800px;\"></div>\n",
       "            <script type=\"text/javascript\">\n",
       "                require([\"plotly\"], function(Plotly) {\n",
       "                    window.PLOTLYENV=window.PLOTLYENV || {};\n",
       "                    window.PLOTLYENV.BASE_URL='https://plot.ly';\n",
       "                    \n",
       "                if (document.getElementById(\"37c6b8a3-4deb-4bdc-8e12-28628b2476a8\")) {\n",
       "                    Plotly.newPlot(\n",
       "                        '37c6b8a3-4deb-4bdc-8e12-28628b2476a8',\n",
       "                        [{\"marker\": {\"color\": \"#077A07\"}, \"orientation\": \"h\", \"showlegend\": false, \"type\": \"bar\", \"uid\": \"ca2852ba-ed59-4eeb-b44c-30997bd3dfe0\", \"x\": [2864, 2980, 2983, 3011, 3062, 3063, 3064, 3074, 3104, 3137, 3186, 3219, 3314, 3340, 3340, 3343, 3593, 3681, 3897, 3987, 4056, 4081, 4130, 4157, 4209, 4386, 4613, 4739, 4875, 5001, 5375, 5399, 5441, 5658, 5753, 5796, 6183, 6245, 6736, 7214, 7472, 7955, 8059, 8297, 9172, 10662, 11594, 11906, 12937, 34445], \"xaxis\": \"x2\", \"y\": [\"apple\", \"big\", \"difficult\", \"con\", \"new\", \"little\", \"environment\", \"would\", \"great\", \"change\", \"career\", \"politics\", \"take\", \"bad\", \"level\", \"process\", \"even\", \"high\", \"culture\", \"pay\", \"customer\", \"really\", \"amazon\", \"thing\", \"need\", \"sometimes\", \"one\", \"year\", \"make\", \"day\", \"good\", \"working\", \"long\", \"hard\", \"many\", \"balance\", \"much\", \"like\", \"job\", \"life\", \"lot\", \"team\", \"employee\", \"hour\", \"manager\", \"management\", \"get\", \"time\", \"no\", \"not\"], \"yaxis\": \"y2\"}],\n",
       "                        {\"annotations\": [{\"font\": {\"size\": 16}, \"showarrow\": false, \"text\": \"Frequent Unigrams of Negative Reviews\", \"x\": 0.7625, \"xanchor\": \"center\", \"xref\": \"paper\", \"y\": 1.0, \"yanchor\": \"bottom\", \"yref\": \"paper\"}], \"height\": 1080, \"paper_bgcolor\": \"rgb(233,233,233)\", \"title\": {\"text\": \"Unigram Plots of Negative Reviews Keywords after removing Stopwords\"}, \"width\": 800, \"xaxis\": {\"anchor\": \"y\", \"domain\": [0.0, 0.475]}, \"xaxis2\": {\"anchor\": \"y2\", \"domain\": [0.525, 1.0]}, \"yaxis\": {\"anchor\": \"x\", \"domain\": [0.0, 1.0]}, \"yaxis2\": {\"anchor\": \"x2\", \"domain\": [0.0, 1.0]}},\n",
       "                        {\"showLink\": false, \"linkText\": \"Export to plot.ly\", \"plotlyServerURL\": \"https://plot.ly\", \"responsive\": true}\n",
       "                    ).then(function(){\n",
       "                            \n",
       "var gd = document.getElementById('37c6b8a3-4deb-4bdc-8e12-28628b2476a8');\n",
       "var x = new MutationObserver(function (mutations, observer) {{\n",
       "        var display = window.getComputedStyle(gd).display;\n",
       "        if (!display || display === 'none') {{\n",
       "            console.log([gd, 'removed!']);\n",
       "            Plotly.purge(gd);\n",
       "            observer.disconnect();\n",
       "        }}\n",
       "}});\n",
       "\n",
       "// Listen for the removal of the full notebook cells\n",
       "var notebookContainer = gd.closest('#notebook-container');\n",
       "if (notebookContainer) {{\n",
       "    x.observe(notebookContainer, {childList: true});\n",
       "}}\n",
       "\n",
       "// Listen for the clearing of the current output cell\n",
       "var outputEl = gd.closest('.output');\n",
       "if (outputEl) {{\n",
       "    x.observe(outputEl, {childList: true});\n",
       "}}\n",
       "\n",
       "                        })\n",
       "                };\n",
       "                });\n",
       "            </script>\n",
       "        </div>"
      ]
     },
     "metadata": {},
     "output_type": "display_data"
    }
   ],
   "source": [
    "# Plotting the unigram plot (Cons)\n",
    "reviews_df = pd.DataFrame({'Reviews':cons_token})\n",
    "unigram_dict = defaultdict(int)\n",
    "\n",
    "for sentence in reviews_df[\"Reviews\"]:\n",
    "    if len(sentence) > 1:\n",
    "        bigram = ngrams(sentence, 1)\n",
    "        for gram in bigram:\n",
    "            unigram_dict[\" \".join([g for g in gram])] += 1\n",
    "\n",
    "\n",
    "fd_sorted = pd.DataFrame(sorted(unigram_dict.items(), key=lambda x: x[1])[::-1])\n",
    "fd_sorted.columns = [\"word\", \"wordFreq\"]\n",
    "sym_2 = horizontal_bar_chart(fd_sorted.head(50), '#077A07')\n",
    "                             \n",
    "fig = tools.make_subplots(\n",
    "        rows=1, \n",
    "        cols=2, \n",
    "        vertical_spacing=0.04,\n",
    "        horizontal_spacing=0.05,\n",
    "        subplot_titles=[\"\",\"Frequent Unigrams of Negative Reviews\"])\n",
    "fig.append_trace(sym_2, 1, 2)\n",
    "fig['layout'].update(\n",
    "        height=1080, \n",
    "        width=800, \n",
    "        paper_bgcolor='rgb(233,233,233)', \n",
    "        title=\"Unigram Plots of Negative Reviews Keywords after removing Stopwords\")\n",
    "plotly.offline.iplot(fig) # jupyter notebook only"
   ]
  },
  {
   "cell_type": "code",
   "execution_count": 24,
   "metadata": {},
   "outputs": [
    {
     "name": "stdout",
     "output_type": "stream",
     "text": [
      "This is the format of your plot grid:\n",
      "[ (1,1) x1,y1 ]  [ (1,2) x2,y2 ]\n",
      "\n"
     ]
    },
    {
     "data": {
      "application/vnd.plotly.v1+json": {
       "config": {
        "linkText": "Export to plot.ly",
        "plotlyServerURL": "https://plot.ly",
        "responsive": true,
        "showLink": false
       },
       "data": [
        {
         "marker": {
          "color": "#CC3333"
         },
         "orientation": "h",
         "showlegend": false,
         "type": "bar",
         "uid": "bfc049aa-0271-47d2-a4a7-85c0a3207e46",
         "x": [
          344,
          347,
          360,
          370,
          372,
          373,
          375,
          375,
          377,
          403,
          405,
          408,
          416,
          422,
          423,
          438,
          444,
          451,
          456,
          459,
          460,
          465,
          466,
          473,
          476,
          477,
          551,
          559,
          574,
          575,
          589,
          609,
          613,
          627,
          629,
          631,
          631,
          661,
          683,
          805,
          827,
          870,
          932,
          942,
          1052,
          1090,
          1090,
          1471,
          2250,
          5337
         ],
         "xaxis": "x2",
         "y": [
          "thing done",
          "hour shift",
          "not think",
          "not lot",
          "low pay",
          "not want",
          "long time",
          "employee not",
          "working hour",
          "balance not",
          "stack ranking",
          "not even",
          "review process",
          "career growth",
          "long term",
          "hour week",
          "may not",
          "not many",
          "senior management",
          "performance review",
          "even though",
          "not like",
          "part time",
          "10 hour",
          "hour day",
          "fast paced",
          "no one",
          "not care",
          "middle management",
          "review system",
          "hard get",
          "not really",
          "upper management",
          "not always",
          "get promoted",
          "not know",
          "full time",
          "not great",
          "manager not",
          "management not",
          "not get",
          "not enough",
          "no life",
          "feel like",
          "not good",
          "no con",
          "not much",
          "can not",
          "long hour",
          "life balance"
         ],
         "yaxis": "y2"
        }
       ],
       "layout": {
        "annotations": [
         {
          "font": {
           "size": 16
          },
          "showarrow": false,
          "text": "Frequent Bigrams of Negative Reviews",
          "x": 0.7625,
          "xanchor": "center",
          "xref": "paper",
          "y": 1,
          "yanchor": "bottom",
          "yref": "paper"
         }
        ],
        "height": 1080,
        "paper_bgcolor": "rgb(233,233,233)",
        "title": {
         "text": "Bigram Plots of Negative Reviews Keywords after removing Stopwords"
        },
        "width": 800,
        "xaxis": {
         "anchor": "y",
         "domain": [
          0,
          0.475
         ]
        },
        "xaxis2": {
         "anchor": "y2",
         "domain": [
          0.525,
          1
         ]
        },
        "yaxis": {
         "anchor": "x",
         "domain": [
          0,
          1
         ]
        },
        "yaxis2": {
         "anchor": "x2",
         "domain": [
          0,
          1
         ]
        }
       }
      },
      "text/html": [
       "<div>\n",
       "        \n",
       "        \n",
       "            <div id=\"9c384ce4-e0cf-4dba-ad1c-36de3a48173a\" class=\"plotly-graph-div\" style=\"height:1080px; width:800px;\"></div>\n",
       "            <script type=\"text/javascript\">\n",
       "                require([\"plotly\"], function(Plotly) {\n",
       "                    window.PLOTLYENV=window.PLOTLYENV || {};\n",
       "                    window.PLOTLYENV.BASE_URL='https://plot.ly';\n",
       "                    \n",
       "                if (document.getElementById(\"9c384ce4-e0cf-4dba-ad1c-36de3a48173a\")) {\n",
       "                    Plotly.newPlot(\n",
       "                        '9c384ce4-e0cf-4dba-ad1c-36de3a48173a',\n",
       "                        [{\"marker\": {\"color\": \"#CC3333\"}, \"orientation\": \"h\", \"showlegend\": false, \"type\": \"bar\", \"uid\": \"8085f3c4-6134-44da-b69f-fdadae691803\", \"x\": [344, 347, 360, 370, 372, 373, 375, 375, 377, 403, 405, 408, 416, 422, 423, 438, 444, 451, 456, 459, 460, 465, 466, 473, 476, 477, 551, 559, 574, 575, 589, 609, 613, 627, 629, 631, 631, 661, 683, 805, 827, 870, 932, 942, 1052, 1090, 1090, 1471, 2250, 5337], \"xaxis\": \"x2\", \"y\": [\"thing done\", \"hour shift\", \"not think\", \"not lot\", \"low pay\", \"not want\", \"long time\", \"employee not\", \"working hour\", \"balance not\", \"stack ranking\", \"not even\", \"review process\", \"career growth\", \"long term\", \"hour week\", \"may not\", \"not many\", \"senior management\", \"performance review\", \"even though\", \"not like\", \"part time\", \"10 hour\", \"hour day\", \"fast paced\", \"no one\", \"not care\", \"middle management\", \"review system\", \"hard get\", \"not really\", \"upper management\", \"not always\", \"get promoted\", \"not know\", \"full time\", \"not great\", \"manager not\", \"management not\", \"not get\", \"not enough\", \"no life\", \"feel like\", \"not good\", \"no con\", \"not much\", \"can not\", \"long hour\", \"life balance\"], \"yaxis\": \"y2\"}],\n",
       "                        {\"annotations\": [{\"font\": {\"size\": 16}, \"showarrow\": false, \"text\": \"Frequent Bigrams of Negative Reviews\", \"x\": 0.7625, \"xanchor\": \"center\", \"xref\": \"paper\", \"y\": 1.0, \"yanchor\": \"bottom\", \"yref\": \"paper\"}], \"height\": 1080, \"paper_bgcolor\": \"rgb(233,233,233)\", \"title\": {\"text\": \"Bigram Plots of Negative Reviews Keywords after removing Stopwords\"}, \"width\": 800, \"xaxis\": {\"anchor\": \"y\", \"domain\": [0.0, 0.475]}, \"xaxis2\": {\"anchor\": \"y2\", \"domain\": [0.525, 1.0]}, \"yaxis\": {\"anchor\": \"x\", \"domain\": [0.0, 1.0]}, \"yaxis2\": {\"anchor\": \"x2\", \"domain\": [0.0, 1.0]}},\n",
       "                        {\"showLink\": false, \"linkText\": \"Export to plot.ly\", \"plotlyServerURL\": \"https://plot.ly\", \"responsive\": true}\n",
       "                    ).then(function(){\n",
       "                            \n",
       "var gd = document.getElementById('9c384ce4-e0cf-4dba-ad1c-36de3a48173a');\n",
       "var x = new MutationObserver(function (mutations, observer) {{\n",
       "        var display = window.getComputedStyle(gd).display;\n",
       "        if (!display || display === 'none') {{\n",
       "            console.log([gd, 'removed!']);\n",
       "            Plotly.purge(gd);\n",
       "            observer.disconnect();\n",
       "        }}\n",
       "}});\n",
       "\n",
       "// Listen for the removal of the full notebook cells\n",
       "var notebookContainer = gd.closest('#notebook-container');\n",
       "if (notebookContainer) {{\n",
       "    x.observe(notebookContainer, {childList: true});\n",
       "}}\n",
       "\n",
       "// Listen for the clearing of the current output cell\n",
       "var outputEl = gd.closest('.output');\n",
       "if (outputEl) {{\n",
       "    x.observe(outputEl, {childList: true});\n",
       "}}\n",
       "\n",
       "                        })\n",
       "                };\n",
       "                });\n",
       "            </script>\n",
       "        </div>"
      ]
     },
     "metadata": {},
     "output_type": "display_data"
    }
   ],
   "source": [
    "# Plotting the bigram plot (Cons)\n",
    "reviews_df = pd.DataFrame({'Reviews':cons_token})\n",
    "bigram_dict = defaultdict(int)\n",
    "\n",
    "for sentence in reviews_df[\"Reviews\"]:\n",
    "    if len(sentence) > 1:\n",
    "        bigram = ngrams(sentence, 2)\n",
    "        for gram in bigram:\n",
    "            bigram_dict[\" \".join([g for g in gram])] += 1\n",
    "\n",
    "\n",
    "fd_sorted = pd.DataFrame(sorted(bigram_dict.items(), key=lambda x: x[1])[::-1])\n",
    "fd_sorted.columns = [\"word\", \"wordFreq\"]\n",
    "sym_2 = horizontal_bar_chart(fd_sorted.head(50), '#CC3333')\n",
    "                             \n",
    "fig = tools.make_subplots(\n",
    "        rows=1, \n",
    "        cols=2, \n",
    "        vertical_spacing=0.04,\n",
    "        horizontal_spacing=0.05,\n",
    "        subplot_titles=[\"\",\"Frequent Bigrams of Negative Reviews\"])\n",
    "fig.append_trace(sym_2, 1, 2)\n",
    "fig['layout'].update(\n",
    "        height=1080, \n",
    "        width=800, \n",
    "        paper_bgcolor='rgb(233,233,233)', \n",
    "        title=\"Bigram Plots of Negative Reviews Keywords after removing Stopwords\")\n",
    "plotly.offline.iplot(fig) # jupyter notebook only"
   ]
  },
  {
   "cell_type": "code",
   "execution_count": 25,
   "metadata": {},
   "outputs": [
    {
     "name": "stdout",
     "output_type": "stream",
     "text": [
      "This is the format of your plot grid:\n",
      "[ (1,1) x1,y1 ]  [ (1,2) x2,y2 ]\n",
      "\n"
     ]
    },
    {
     "data": {
      "application/vnd.plotly.v1+json": {
       "config": {
        "linkText": "Export to plot.ly",
        "plotlyServerURL": "https://plot.ly",
        "responsive": true,
        "showLink": false
       },
       "data": [
        {
         "marker": {
          "color": "#333399"
         },
         "orientation": "h",
         "showlegend": false,
         "type": "bar",
         "uid": "f4f1c0e2-4365-4042-b80a-48d793da6536",
         "x": [
          63,
          64,
          64,
          65,
          65,
          66,
          66,
          67,
          67,
          67,
          67,
          68,
          68,
          71,
          73,
          74,
          74,
          75,
          77,
          78,
          81,
          81,
          83,
          87,
          91,
          93,
          95,
          96,
          96,
          97,
          101,
          102,
          106,
          106,
          108,
          109,
          110,
          113,
          127,
          130,
          133,
          133,
          146,
          149,
          151,
          186,
          227,
          289,
          387,
          858
         ],
         "xaxis": "x2",
         "y": [
          "would not recommend",
          "full time position",
          "life balance challenging",
          "getting thing done",
          "can not get",
          "pay not great",
          "life balance non",
          "lot red tape",
          "life balance could",
          "12 hour day",
          "not think con",
          "long hour no",
          "part time employee",
          "management not care",
          "40 hour week",
          "lack life balance",
          "performance review system",
          "balance not good",
          "easy get lost",
          "not many con",
          "long hour not",
          "high turnover rate",
          "zero life balance",
          "life balance poor",
          "15 minute break",
          "life balance difficult",
          "hard get promoted",
          "life balance hard",
          "full time employee",
          "not enough time",
          "hour per week",
          "not much room",
          "sometimes feel like",
          "good life balance",
          "60 hour week",
          "not care employee",
          "life balance no",
          "fast paced environment",
          "none none none",
          "take long time",
          "bad life balance",
          "10 hour day",
          "10 hour shift",
          "can not think",
          "no free food",
          "long working hour",
          "get thing done",
          "poor life balance",
          "life balance not",
          "no life balance"
         ],
         "yaxis": "y2"
        }
       ],
       "layout": {
        "annotations": [
         {
          "font": {
           "size": 16
          },
          "showarrow": false,
          "text": "Frequent Trigrams of Negative Reviews",
          "x": 0.7625,
          "xanchor": "center",
          "xref": "paper",
          "y": 1,
          "yanchor": "bottom",
          "yref": "paper"
         }
        ],
        "height": 1080,
        "paper_bgcolor": "rgb(233,233,233)",
        "title": {
         "text": "Trigram Plots of Negative Reviews Keywords after removing Stopwords"
        },
        "width": 800,
        "xaxis": {
         "anchor": "y",
         "domain": [
          0,
          0.475
         ]
        },
        "xaxis2": {
         "anchor": "y2",
         "domain": [
          0.525,
          1
         ]
        },
        "yaxis": {
         "anchor": "x",
         "domain": [
          0,
          1
         ]
        },
        "yaxis2": {
         "anchor": "x2",
         "domain": [
          0,
          1
         ]
        }
       }
      },
      "text/html": [
       "<div>\n",
       "        \n",
       "        \n",
       "            <div id=\"64ab05bf-24d6-4e68-ad2f-c65b3359f3c8\" class=\"plotly-graph-div\" style=\"height:1080px; width:800px;\"></div>\n",
       "            <script type=\"text/javascript\">\n",
       "                require([\"plotly\"], function(Plotly) {\n",
       "                    window.PLOTLYENV=window.PLOTLYENV || {};\n",
       "                    window.PLOTLYENV.BASE_URL='https://plot.ly';\n",
       "                    \n",
       "                if (document.getElementById(\"64ab05bf-24d6-4e68-ad2f-c65b3359f3c8\")) {\n",
       "                    Plotly.newPlot(\n",
       "                        '64ab05bf-24d6-4e68-ad2f-c65b3359f3c8',\n",
       "                        [{\"marker\": {\"color\": \"#333399\"}, \"orientation\": \"h\", \"showlegend\": false, \"type\": \"bar\", \"uid\": \"5a46c872-6363-407f-8fc1-32b4300658fa\", \"x\": [63, 64, 64, 65, 65, 66, 66, 67, 67, 67, 67, 68, 68, 71, 73, 74, 74, 75, 77, 78, 81, 81, 83, 87, 91, 93, 95, 96, 96, 97, 101, 102, 106, 106, 108, 109, 110, 113, 127, 130, 133, 133, 146, 149, 151, 186, 227, 289, 387, 858], \"xaxis\": \"x2\", \"y\": [\"would not recommend\", \"full time position\", \"life balance challenging\", \"getting thing done\", \"can not get\", \"pay not great\", \"life balance non\", \"lot red tape\", \"life balance could\", \"12 hour day\", \"not think con\", \"long hour no\", \"part time employee\", \"management not care\", \"40 hour week\", \"lack life balance\", \"performance review system\", \"balance not good\", \"easy get lost\", \"not many con\", \"long hour not\", \"high turnover rate\", \"zero life balance\", \"life balance poor\", \"15 minute break\", \"life balance difficult\", \"hard get promoted\", \"life balance hard\", \"full time employee\", \"not enough time\", \"hour per week\", \"not much room\", \"sometimes feel like\", \"good life balance\", \"60 hour week\", \"not care employee\", \"life balance no\", \"fast paced environment\", \"none none none\", \"take long time\", \"bad life balance\", \"10 hour day\", \"10 hour shift\", \"can not think\", \"no free food\", \"long working hour\", \"get thing done\", \"poor life balance\", \"life balance not\", \"no life balance\"], \"yaxis\": \"y2\"}],\n",
       "                        {\"annotations\": [{\"font\": {\"size\": 16}, \"showarrow\": false, \"text\": \"Frequent Trigrams of Negative Reviews\", \"x\": 0.7625, \"xanchor\": \"center\", \"xref\": \"paper\", \"y\": 1.0, \"yanchor\": \"bottom\", \"yref\": \"paper\"}], \"height\": 1080, \"paper_bgcolor\": \"rgb(233,233,233)\", \"title\": {\"text\": \"Trigram Plots of Negative Reviews Keywords after removing Stopwords\"}, \"width\": 800, \"xaxis\": {\"anchor\": \"y\", \"domain\": [0.0, 0.475]}, \"xaxis2\": {\"anchor\": \"y2\", \"domain\": [0.525, 1.0]}, \"yaxis\": {\"anchor\": \"x\", \"domain\": [0.0, 1.0]}, \"yaxis2\": {\"anchor\": \"x2\", \"domain\": [0.0, 1.0]}},\n",
       "                        {\"showLink\": false, \"linkText\": \"Export to plot.ly\", \"plotlyServerURL\": \"https://plot.ly\", \"responsive\": true}\n",
       "                    ).then(function(){\n",
       "                            \n",
       "var gd = document.getElementById('64ab05bf-24d6-4e68-ad2f-c65b3359f3c8');\n",
       "var x = new MutationObserver(function (mutations, observer) {{\n",
       "        var display = window.getComputedStyle(gd).display;\n",
       "        if (!display || display === 'none') {{\n",
       "            console.log([gd, 'removed!']);\n",
       "            Plotly.purge(gd);\n",
       "            observer.disconnect();\n",
       "        }}\n",
       "}});\n",
       "\n",
       "// Listen for the removal of the full notebook cells\n",
       "var notebookContainer = gd.closest('#notebook-container');\n",
       "if (notebookContainer) {{\n",
       "    x.observe(notebookContainer, {childList: true});\n",
       "}}\n",
       "\n",
       "// Listen for the clearing of the current output cell\n",
       "var outputEl = gd.closest('.output');\n",
       "if (outputEl) {{\n",
       "    x.observe(outputEl, {childList: true});\n",
       "}}\n",
       "\n",
       "                        })\n",
       "                };\n",
       "                });\n",
       "            </script>\n",
       "        </div>"
      ]
     },
     "metadata": {},
     "output_type": "display_data"
    }
   ],
   "source": [
    "# Plotting the trigram plot (Cons)\n",
    "trigram_dict = defaultdict(int)\n",
    "\n",
    "for sentence in reviews_df[\"Reviews\"]:\n",
    "    if len(sentence) > 1:\n",
    "        trigram = ngrams(sentence, 3)\n",
    "        for gram in trigram:\n",
    "            trigram_dict[\" \".join([g for g in gram])] += 1\n",
    "        \n",
    "fd_sorted = pd.DataFrame(sorted(trigram_dict.items(), key=lambda x: x[1])[::-1])\n",
    "fd_sorted.columns = [\"word\", \"wordFreq\"]\n",
    "sym_3 = horizontal_bar_chart(fd_sorted.head(50), '#333399')\n",
    "                             \n",
    "fig = tools.make_subplots(\n",
    "        rows=1, \n",
    "        cols=2, \n",
    "        vertical_spacing=0.04,\n",
    "        horizontal_spacing=0.05,\n",
    "        subplot_titles=[\"\", \"Frequent Trigrams of Negative Reviews\"])\n",
    "fig.append_trace(sym_3, 1, 2)\n",
    "fig['layout'].update(\n",
    "        height=1080, \n",
    "        width=800, \n",
    "        paper_bgcolor='rgb(233,233,233)', \n",
    "        title=\"Trigram Plots of Negative Reviews Keywords after removing Stopwords\")\n",
    "plotly.offline.iplot(fig) # jupyter notebook only"
   ]
  },
  {
   "cell_type": "code",
   "execution_count": null,
   "metadata": {},
   "outputs": [],
   "source": []
  }
 ],
 "metadata": {
  "kernelspec": {
   "display_name": "Python 3",
   "language": "python",
   "name": "python3"
  },
  "language_info": {
   "codemirror_mode": {
    "name": "ipython",
    "version": 3
   },
   "file_extension": ".py",
   "mimetype": "text/x-python",
   "name": "python",
   "nbconvert_exporter": "python",
   "pygments_lexer": "ipython3",
   "version": "3.7.3"
  }
 },
 "nbformat": 4,
 "nbformat_minor": 2
}
